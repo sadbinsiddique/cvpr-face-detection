{
  "nbformat": 4,
  "nbformat_minor": 0,
  "metadata": {
    "colab": {
      "private_outputs": true,
      "provenance": [],
      "gpuType": "T4",
      "mount_file_id": "1sdtJhWg5ImuRo8srrcWrTSHZlNEA510S",
      "authorship_tag": "ABX9TyMFKbH/6KUDBDrowmaxuYdf",
      "include_colab_link": true
    },
    "kernelspec": {
      "name": "python3",
      "display_name": "Python 3"
    },
    "language_info": {
      "name": "python"
    },
    "accelerator": "GPU"
  },
  "cells": [
    {
      "cell_type": "markdown",
      "metadata": {
        "id": "view-in-github",
        "colab_type": "text"
      },
      "source": [
        "<a href=\"https://colab.research.google.com/github/sadbinsiddique/cvpr-face-detection/blob/main/face_recognition_model.ipynb\" target=\"_parent\"><img src=\"https://colab.research.google.com/assets/colab-badge.svg\" alt=\"Open In Colab\"/></a>"
      ]
    },
    {
      "cell_type": "code",
      "execution_count": null,
      "metadata": {
        "id": "EQfPmgPoMRUN"
      },
      "outputs": [],
      "source": [
        "import os\n",
        "import json\n",
        "import numpy as np\n",
        "import matplotlib.pyplot as plt\n",
        "import seaborn as sns\n",
        "from datetime import datetime\n",
        "from sklearn.metrics import classification_report, confusion_matrix\n",
        "from tensorflow.keras.models import Model\n",
        "from tensorflow.keras.layers import Input, GlobalAveragePooling2D, Dense, Dropout, Concatenate\n",
        "from tensorflow.keras.callbacks import EarlyStopping, TensorBoard, ModelCheckpoint, ReduceLROnPlateau\n",
        "from tensorflow.keras.preprocessing.image import ImageDataGenerator\n",
        "from tensorflow.keras.applications import EfficientNetB0, ResNet50, MobileNetV2"
      ]
    },
    {
      "cell_type": "code",
      "source": [
        "# Check if TensorFlow is using GPU\n",
        "gpus = tf.config.experimental.list_physical_devices('GPU')\n",
        "if gpus:\n",
        "    try:\n",
        "        tf.config.experimental.set_memory_growth(gpus[0], True)\n",
        "        print(\"✅ GPU is being used\")\n",
        "    except RuntimeError as e:\n",
        "        print(\"❌ Error setting GPU memory growth:\", e)\n",
        "else:\n",
        "    print(\"❌ No GPU found, using CPU instead\")"
      ],
      "metadata": {
        "id": "_Q_idlLYMh2R"
      },
      "execution_count": null,
      "outputs": []
    },
    {
      "cell_type": "code",
      "source": [
        "# ==== CONFIGURATION ====\n",
        "dataset_dir = \"/content/drive/MyDrive/images (1)\"\n",
        "image_size = 237\n",
        "batch_size = 16\n",
        "epochs = 30\n",
        "\n",
        "# ==== DATA AUGMENTATION ====\n",
        "datagen = ImageDataGenerator(\n",
        "    rescale=1./255,\n",
        "    validation_split=0.2,\n",
        "    rotation_range=20,\n",
        "    zoom_range=0.2,\n",
        "    width_shift_range=0.2,\n",
        "    height_shift_range=0.2,\n",
        "    horizontal_flip=True\n",
        ")\n",
        "\n",
        "train_data = datagen.flow_from_directory(\n",
        "    dataset_dir,\n",
        "    target_size=(image_size, image_size),\n",
        "    batch_size=batch_size,\n",
        "    class_mode='categorical',\n",
        "    subset='training',\n",
        "    shuffle=True\n",
        ")\n",
        "\n",
        "val_data = datagen.flow_from_directory(\n",
        "    dataset_dir,\n",
        "    target_size=(image_size, image_size),\n",
        "    batch_size=batch_size,\n",
        "    class_mode='categorical',\n",
        "    subset='validation',\n",
        "    shuffle=False\n",
        ")\n"
      ],
      "metadata": {
        "id": "U477fn1jM8B0"
      },
      "execution_count": null,
      "outputs": []
    },
    {
      "cell_type": "code",
      "source": [
        "# ==== CLASS COUNT & CONFIG ====\n",
        "num_classes = train_data.num_classes\n",
        "\n",
        "if num_classes == 2:\n",
        "    final_activation = 'sigmoid'\n",
        "    loss_fn = 'binary_crossentropy'\n",
        "    output_units = 1\n",
        "else:\n",
        "    final_activation = 'softmax'\n",
        "    loss_fn = 'categorical_crossentropy'\n",
        "    output_units = num_classes"
      ],
      "metadata": {
        "id": "GfbTTYCvQdvI"
      },
      "execution_count": null,
      "outputs": []
    },
    {
      "cell_type": "code",
      "source": [
        "# ==== SAVE CLASS INDICES ====\n",
        "with open(\"class_indices.json\", \"w\") as f:\n",
        "    json.dump(train_data.class_indices, f)\n",
        "print(\"✅ Class indices saved to class_indices.json\")"
      ],
      "metadata": {
        "id": "xl1XCqHFQd8q"
      },
      "execution_count": null,
      "outputs": []
    },
    {
      "cell_type": "code",
      "source": [
        "# ==== BASE MODELS ====\n",
        "input_tensor = Input(shape=(image_size, image_size, 3))\n",
        "\n",
        "effnet = EfficientNetB0(include_top=False, weights='imagenet', input_tensor=input_tensor)\n",
        "resnet = ResNet50(include_top=False, weights='imagenet', input_tensor=input_tensor)\n",
        "mobilenet = MobileNetV2(include_top=False, weights='imagenet', input_tensor=input_tensor)\n",
        "\n",
        "for layer in effnet.layers: layer.trainable = False\n",
        "for layer in resnet.layers: layer.trainable = False\n",
        "for layer in mobilenet.layers: layer.trainable = False\n",
        "\n",
        "x1 = GlobalAveragePooling2D()(effnet.output)\n",
        "x2 = GlobalAveragePooling2D()(resnet.output)\n",
        "x3 = GlobalAveragePooling2D()(mobilenet.output)\n",
        "\n",
        "merged = Concatenate()([x1, x2, x3])\n",
        "x = Dense(512, activation='relu')(merged)\n",
        "x = Dropout(0.5)(x)\n",
        "output = Dense(output_units, activation=final_activation)(x)\n",
        "\n",
        "model = Model(inputs=input_tensor, outputs=output)"
      ],
      "metadata": {
        "id": "4oJ25UV0QeJT"
      },
      "execution_count": null,
      "outputs": []
    },
    {
      "cell_type": "code",
      "source": [
        "# ==== COMPILE ====\n",
        "model.compile(optimizer='adam', loss=loss_fn, metrics=['accuracy'])"
      ],
      "metadata": {
        "id": "6ac-JwT1rsLL"
      },
      "execution_count": null,
      "outputs": []
    },
    {
      "cell_type": "code",
      "source": [
        "# ==== SUMMARY & CALLBACKS ====\n",
        "model.summary()\n",
        "\n",
        "log_dir = os.path.join(\"logs\", datetime.now().strftime(\"%Y%m%d-%H%M%S\"))\n",
        "callbacks = [\n",
        "    TensorBoard(log_dir=log_dir),\n",
        "    EarlyStopping(monitor='val_loss', patience=5, restore_best_weights=True),\n",
        "    ModelCheckpoint(\"best_multimodel.h5\", monitor=\"val_accuracy\", save_best_only=True, verbose=1),\n",
        "    ReduceLROnPlateau(monitor='val_loss', factor=0.5, patience=2, verbose=1)\n",
        "]"
      ],
      "metadata": {
        "id": "K82QjK4JrsIM"
      },
      "execution_count": null,
      "outputs": []
    },
    {
      "cell_type": "code",
      "source": [
        "# ==== TRAIN ====\n",
        "history = model.fit(\n",
        "    train_data,\n",
        "    validation_data=val_data,\n",
        "    epochs=epochs,\n",
        "    callbacks=callbacks\n",
        ")"
      ],
      "metadata": {
        "id": "T0i6asBursFN"
      },
      "execution_count": null,
      "outputs": []
    },
    {
      "cell_type": "code",
      "source": [
        "# ==== SAVE ====\n",
        "model.save('best_model.h5')\n",
        "print(\"✅ Final model saved!\")"
      ],
      "metadata": {
        "id": "ym886IrkrsCV"
      },
      "execution_count": null,
      "outputs": []
    },
    {
      "cell_type": "code",
      "source": [
        "# ==== EVALUATION ====\n",
        "val_steps = val_data.samples // val_data.batch_size + 1\n",
        "val_data.reset()\n",
        "preds = model.predict(val_data, steps=val_steps)\n",
        "\n",
        "if num_classes == 2:\n",
        "    y_pred = (preds > 0.5).astype(int).flatten()\n",
        "else:\n",
        "    y_pred = np.argmax(preds, axis=1)\n",
        "\n",
        "y_true = val_data.classes\n",
        "labels = list(train_data.class_indices.keys())\n",
        "\n",
        "print(\"\\n=== Classification Report ===\")\n",
        "print(classification_report(y_true, y_pred, target_names=labels))\n",
        "print(\"=== Confusion Matrix ===\")\n",
        "print(confusion_matrix(y_true, y_pred))"
      ],
      "metadata": {
        "id": "b3GufC4orr_j"
      },
      "execution_count": null,
      "outputs": []
    },
    {
      "cell_type": "code",
      "source": [
        "# ==== DASHBOARD ====\n",
        "plt.figure(figsize=(14, 10))\n",
        "\n",
        "plt.subplot(2, 2, 1)\n",
        "plt.plot(history.history['accuracy'], label='Train Acc')\n",
        "plt.plot(history.history['val_accuracy'], label='Val Acc')\n",
        "plt.title('Accuracy Over Epochs')\n",
        "plt.legend()\n",
        "\n",
        "plt.subplot(2, 2, 2)\n",
        "plt.plot(history.history['loss'], label='Train Loss')\n",
        "plt.plot(history.history['val_loss'], label='Val Loss')\n",
        "plt.title('Loss Over Epochs')\n",
        "plt.legend()\n",
        "\n",
        "plt.subplot(2, 2, 3)\n",
        "cm = confusion_matrix(y_true, y_pred)\n",
        "sns.heatmap(cm, annot=True, fmt='d', cmap='Blues', xticklabels=labels, yticklabels=labels)\n",
        "plt.title('Confusion Matrix')\n",
        "plt.xlabel('Predicted')\n",
        "plt.ylabel('True')\n",
        "\n",
        "plt.subplot(2, 2, 4)\n",
        "report = classification_report(y_true, y_pred, target_names=labels, output_dict=True)\n",
        "scores = {m: [report[l][m] for l in labels] for m in ['precision', 'recall', 'f1-score']}\n",
        "\n",
        "x = np.arange(len(labels))\n",
        "w = 0.2\n",
        "plt.bar(x - w, scores['precision'], w, label='Precision')\n",
        "plt.bar(x, scores['recall'], w, label='Recall')\n",
        "plt.bar(x + w, scores['f1-score'], w, label='F1-Score')\n",
        "plt.xticks(ticks=x, labels=labels)\n",
        "plt.ylim(0, 1.05)\n",
        "plt.title('Per-Class Metrics')\n",
        "plt.legend()\n",
        "plt.tight_layout()\n",
        "\n",
        "plt.show()\n"
      ],
      "metadata": {
        "id": "vNGAtKYmrr8v"
      },
      "execution_count": null,
      "outputs": []
    }
  ]
}